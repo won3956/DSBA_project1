{
 "cells": [
  {
   "cell_type": "code",
   "execution_count": null,
   "id": "ca8da53b",
   "metadata": {},
   "outputs": [],
   "source": [
    "from gtts import gTTS\n",
    "import os\n",
    "import glob\n",
    "\n",
    "lst0 = []\n",
    "\n",
    "for filename in glob.glob(\"/content/Untitled Folder/*\"):\n",
    "    with open(filename, 'r', encoding='utf-8') as f:\n",
    "        lst0.append(f.read())\n",
    "\n",
    "file_name = '5월 1일.txt'\n",
    "\n",
    "with open(file_name, 'w+') as file:\n",
    "    file.write('\\n'.join(lst0))"
   ]
  },
  {
   "cell_type": "code",
   "execution_count": null,
   "id": "75f43b32",
   "metadata": {},
   "outputs": [],
   "source": [
    "# 텍스트 파일에서 내용을 읽어와서 문자열로 저장\n",
    "with open('/content/5월 1일.txt', 'r', encoding='utf-8') as f:\n",
    "    text = f.read()\n",
    "\n",
    "# 언어 설정\n",
    "language = 'ko'\n",
    "\n",
    "# gTTS 객체 생성\n",
    "speech = gTTS(text=text, lang=language, slow=False)\n",
    "\n",
    "# 음성 파일로 저장\n",
    "speech.save(\"output1.wav\")"
   ]
  },
  {
   "cell_type": "code",
   "execution_count": null,
   "id": "0a2ea56c",
   "metadata": {},
   "outputs": [],
   "source": [
    "from gtts import gTTS\n",
    "import os\n",
    "import glob\n",
    "\n",
    "language = 'ko'\n",
    "text = \"할머니 오늘 하루는 어떠셨어요?\"\n",
    "\n",
    "speech = gTTS(text=text, lang=language, slow=False)\n",
    "\n",
    "# 음성 파일로 저장\n",
    "speech.save(\"하루.mp3\")"
   ]
  },
  {
   "cell_type": "code",
   "execution_count": null,
   "id": "cfb974f7",
   "metadata": {},
   "outputs": [],
   "source": [
    "from gtts import gTTS\n",
    "import os\n",
    "import glob\n",
    "\n",
    "language = 'ko'\n",
    "text = \"내일은 주변 산책을 나가보시는 건 어때요?\"\n",
    "\n",
    "speech = gTTS(text=text, lang=language, slow=False)\n",
    "\n",
    "# 음성 파일로 저장\n",
    "speech.save(\"산책.mp3\")"
   ]
  }
 ],
 "metadata": {
  "language_info": {
   "name": "python"
  }
 },
 "nbformat": 4,
 "nbformat_minor": 5
}
