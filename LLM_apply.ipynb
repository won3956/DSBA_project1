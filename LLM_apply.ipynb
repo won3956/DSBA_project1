{
 "cells": [
  {
   "cell_type": "code",
   "execution_count": null,
   "id": "536c99e8",
   "metadata": {},
   "outputs": [],
   "source": [
    "from transformers import AutoTokenizer\n",
    "\n",
    "base_model = \"beomi/KoAlpaca-Polyglot-5.8B\"\n",
    "lora_model_path = \"/content/beomi_llm\"\n",
    "\n",
    "# 토크나이저 로드\n",
    "tokenizer = AutoTokenizer.from_pretrained(lora_model_path, use_fast=True)\n",
    "tokenizer.pad_token = tokenizer.eos_token  # 필수\n",
    "\n",
    "# 베이스 모델 로드 + LoRA 적용\n",
    "model = AutoModelForCausalLM.from_pretrained(\n",
    "    base_model,\n",
    "    device_map=\"auto\",\n",
    "    load_in_8bit=True\n",
    ")\n",
    "model = PeftModel.from_pretrained(model, lora_model_path)\n",
    "\n",
    "model.eval()"
   ]
  },
  {
   "cell_type": "code",
   "execution_count": null,
   "id": "4f2ab246",
   "metadata": {},
   "outputs": [],
   "source": [
    "from google.colab import drive\n",
    "drive.mount('/content/drive')"
   ]
  },
  {
   "cell_type": "code",
   "execution_count": null,
   "id": "b93932db",
   "metadata": {},
   "outputs": [],
   "source": [
    "def generate(prompt, max_new_tokens):\n",
    "    inputs = tokenizer(prompt, return_tensors=\"pt\")\n",
    "    inputs = {k: v.to(model.device) for k, v in inputs.items() if k != \"token_type_ids\"}\n",
    "\n",
    "    with torch.no_grad():\n",
    "        outputs = model.generate(\n",
    "            **inputs,\n",
    "            max_new_tokens=max_new_tokens,\n",
    "            do_sample=True,\n",
    "            temperature=0.5,\n",
    "            top_p=0.9,\n",
    "            pad_token_id=tokenizer.eos_token_id\n",
    "        )\n",
    "    return tokenizer.decode(outputs[0], skip_special_tokens=True)"
   ]
  },
  {
   "cell_type": "code",
   "execution_count": null,
   "id": "abe3bedf",
   "metadata": {},
   "outputs": [],
   "source": [
    "import re\n",
    "\n",
    "def clean_and_trim_response(prompt, generated_text):\n",
    "    # prompt 이후 부분만 추출\n",
    "    response = generated_text[len(prompt):].strip()\n",
    "\n",
    "    # 불필요한 토큰 제거\n",
    "    response = re.sub(r'(input:|output:)', '', response).strip()\n",
    "\n",
    "    # 마침표 기준으로 문장 자르기 후 첫 문장만 사용\n",
    "    sentences = re.split(r'(?<=[.!?])\\s+', response)\n",
    "    return sentences[0] if sentences else response\n",
    "\n",
    "\n",
    "input_text = \"오늘 밥을 뭘 먹는게 좋을까?\"\n",
    "prompt = f\"input: {input_text}\\noutput:\"\n",
    "generated = generate(prompt, 100)\n",
    "\n",
    "result = clean_and_trim_response(prompt, generated)\n",
    "print(result)"
   ]
  },
  {
   "cell_type": "code",
   "execution_count": null,
   "id": "eb31c6a5",
   "metadata": {},
   "outputs": [],
   "source": [
    "from gtts import gTTS\n",
    "\n",
    "# 언어 설정\n",
    "language = 'ko'\n",
    "\n",
    "# gTTS 객체 생성\n",
    "speech = gTTS(text=result, lang=language, slow=False)\n",
    "\n",
    "# 음성 파일로 저장\n",
    "speech.save(\"/content/bap.wav\")"
   ]
  }
 ],
 "metadata": {
  "language_info": {
   "name": "python"
  }
 },
 "nbformat": 4,
 "nbformat_minor": 5
}
