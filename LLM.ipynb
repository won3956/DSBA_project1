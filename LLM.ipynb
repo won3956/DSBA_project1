{
 "cells": [
  {
   "cell_type": "code",
   "execution_count": null,
   "id": "ff09e256",
   "metadata": {},
   "outputs": [],
   "source": [
    "# !pip install -U bitsandbytes\n",
    "# !pip install gTTS\n",
    "# !pip install transformers datasets accelerate peft bitsandbytes"
   ]
  },
  {
   "cell_type": "code",
   "execution_count": null,
   "id": "9338785d",
   "metadata": {},
   "outputs": [],
   "source": [
    "from datasets import Dataset\n",
    "from transformers import AutoTokenizer, AutoModelForCausalLM, TrainingArguments, Trainer, DataCollatorForLanguageModeling, BitsAndBytesConfig\n",
    "from peft import LoraConfig, get_peft_model, prepare_model_for_kbit_training, TaskType\n",
    "import json\n",
    "import torch\n",
    "from transformers import AutoModelForCausalLM, AutoTokenizer\n",
    "from peft import PeftModel\n",
    "import torch"
   ]
  },
  {
   "cell_type": "code",
   "execution_count": null,
   "id": "196f9a36",
   "metadata": {},
   "outputs": [],
   "source": [
    "# 경로 및 모델명\n",
    "file_path = \"/content/cleaned_dataset_half.json\"\n",
    "model_name = \"beomi/KoAlpaca-Polyglot-5.8B\"\n",
    "\n",
    "# 1. 데이터 로드\n",
    "with open(file_path, \"r\", encoding=\"utf-8\") as f:\n",
    "    data = json.load(f)\n",
    "\n",
    "dataset = Dataset.from_list(data)"
   ]
  },
  {
   "cell_type": "code",
   "execution_count": null,
   "id": "46233976",
   "metadata": {},
   "outputs": [],
   "source": [
    "# 2. 토크나이저 설정\n",
    "tokenizer = AutoTokenizer.from_pretrained(model_name, use_fast=True)\n",
    "tokenizer.pad_token = tokenizer.eos_token  # LLaMA 계열에서 필수\n",
    "\n",
    "# 3. 토크나이징 함수 정의\n",
    "def tokenize(example):\n",
    "    prompt = example[\"input\"].strip()\n",
    "    response = example[\"output\"].strip()\n",
    "    full_text = prompt + \"\\n\" + response\n",
    "\n",
    "    tokenized = tokenizer(\n",
    "        full_text,\n",
    "        truncation=True,\n",
    "        max_length=512,\n",
    "        padding=\"max_length\"\n",
    "    )\n",
    "    tokenized[\"labels\"] = tokenized[\"input_ids\"].copy()\n",
    "    return tokenized\n",
    "\n",
    "tokenized_dataset = dataset.map(tokenize, remove_columns=[\"input\", \"output\"])"
   ]
  },
  {
   "cell_type": "code",
   "execution_count": null,
   "id": "744054df",
   "metadata": {},
   "outputs": [],
   "source": [
    "# 4. 양자화 설정 + 모델 로드\n",
    "bnb_config = BitsAndBytesConfig(\n",
    "    load_in_8bit=True,\n",
    "    llm_int8_enable_fp32_cpu_offload=False  # CPU offload 금지\n",
    ")\n",
    "\n",
    "model = AutoModelForCausalLM.from_pretrained(\n",
    "    model_name,\n",
    "    quantization_config=bnb_config,\n",
    "    device_map=\"auto\"\n",
    ")"
   ]
  },
  {
   "cell_type": "code",
   "execution_count": null,
   "id": "e02460b9",
   "metadata": {},
   "outputs": [],
   "source": [
    "# 5. LoRA 설정 및 적용\n",
    "model = prepare_model_for_kbit_training(model)\n",
    "\n",
    "lora_config = LoraConfig(\n",
    "    r=8,\n",
    "    lora_alpha=32,\n",
    "    target_modules=[\"attention.query_key_value\"],\n",
    "    lora_dropout=0.05,\n",
    "    bias=\"none\",\n",
    "    task_type=TaskType.CAUSAL_LM\n",
    ")\n",
    "\n",
    "\n",
    "model = get_peft_model(model, lora_config)\n"
   ]
  },
  {
   "cell_type": "code",
   "execution_count": null,
   "id": "b5d10b6c",
   "metadata": {},
   "outputs": [],
   "source": [
    "# 6. 학습 설정\n",
    "training_args = TrainingArguments(\n",
    "    output_dir=\"/content/koalpaca-lora-checkpoints\",\n",
    "    per_device_train_batch_size=2,\n",
    "    gradient_accumulation_steps=4,\n",
    "    num_train_epochs=1,\n",
    "    logging_steps=10,\n",
    "    save_strategy=\"epoch\",\n",
    "    save_total_limit=1,\n",
    "    report_to=\"none\",\n",
    "    fp16=True\n",
    ")"
   ]
  },
  {
   "cell_type": "code",
   "execution_count": null,
   "id": "849cac95",
   "metadata": {},
   "outputs": [],
   "source": [
    "# 7. 데이터 콜레이터 및 Trainer\n",
    "data_collator = DataCollatorForLanguageModeling(tokenizer=tokenizer, mlm=False)\n",
    "\n",
    "trainer = Trainer(\n",
    "    model=model,\n",
    "    args=training_args,\n",
    "    train_dataset=tokenized_dataset,\n",
    "    data_collator=data_collator\n",
    ")\n",
    "\n",
    "# 8. 학습 실행\n",
    "trainer.train()\n",
    "\n",
    "# 9. 모델 저장\n",
    "trainer.save_model(\"/content/beomi_llm\")\n",
    "tokenizer.save_pretrained(\"/content/beomi_llm\")"
   ]
  },
  {
   "cell_type": "code",
   "execution_count": null,
   "id": "1e9aa029",
   "metadata": {},
   "outputs": [],
   "source": [
    "import shutil\n",
    "\n",
    "source_dir = '/content/beomi_llm'\n",
    "destination_dir = '/content/drive/MyDrive/디스부/예비 프로젝트/Beomi/beomi_llm'\n",
    "\n",
    "shutil.copytree(source_dir, destination_dir)\n"
   ]
  },
  {
   "cell_type": "code",
   "execution_count": null,
   "id": "a8463e7b",
   "metadata": {},
   "outputs": [],
   "source": []
  }
 ],
 "metadata": {
  "language_info": {
   "name": "python"
  }
 },
 "nbformat": 4,
 "nbformat_minor": 5
}
