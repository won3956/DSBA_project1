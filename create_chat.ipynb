{
 "cells": [
  {
   "cell_type": "code",
   "execution_count": null,
   "id": "35d5f2cd",
   "metadata": {},
   "outputs": [],
   "source": [
    "from datasets import Dataset\n",
    "from transformers import AutoTokenizer, AutoModelForCausalLM, TrainingArguments, Trainer, DataCollatorForLanguageModeling, BitsAndBytesConfig\n",
    "from peft import LoraConfig, get_peft_model, prepare_model_for_kbit_training, TaskType, PeftModel\n",
    "import json, re, shutil, torch\n",
    "from gtts import gTTS"
   ]
  },
  {
   "cell_type": "code",
   "execution_count": null,
   "id": "2033ccf9",
   "metadata": {},
   "outputs": [],
   "source": [
    "# 경로 및 모델명\n",
    "file_path = \"train_data/cleaned_dataset_half.json\"\n",
    "model_name = \"beomi/KoAlpaca-Polyglot-5.8B\"\n",
    "\n",
    "# 1. 데이터 로드\n",
    "with open(file_path, \"r\", encoding=\"utf-8\") as f:\n",
    "    data = json.load(f)\n",
    "\n",
    "dataset = Dataset.from_list(data)"
   ]
  },
  {
   "cell_type": "code",
   "execution_count": null,
   "id": "ee8338a8",
   "metadata": {},
   "outputs": [],
   "source": [
    "# 2. 토크나이저 설정\n",
    "tokenizer = AutoTokenizer.from_pretrained(model_name, use_fast=True)\n",
    "tokenizer.pad_token = tokenizer.eos_token  # LLaMA 계열에서 필수\n",
    "\n",
    "# 3. 토크나이징 함수 정의\n",
    "def tokenize(example):\n",
    "    prompt = example[\"input\"].strip()\n",
    "    response = example[\"output\"].strip()\n",
    "    full_text = prompt + \"\\n\" + response\n",
    "\n",
    "    tokenized = tokenizer(\n",
    "        full_text,\n",
    "        truncation=True,\n",
    "        max_length=512,\n",
    "        padding=\"max_length\"\n",
    "    )\n",
    "    tokenized[\"labels\"] = tokenized[\"input_ids\"].copy()\n",
    "    return tokenized\n",
    "\n",
    "tokenized_dataset = dataset.map(tokenize, remove_columns=[\"input\", \"output\"])\n",
    "\n",
    "# 4. 양자화 설정 + 모델 로드\n",
    "bnb_config = BitsAndBytesConfig(\n",
    "    load_in_8bit=True,\n",
    "    llm_int8_enable_fp32_cpu_offload=False  # CPU offload 금지\n",
    ")\n",
    "\n",
    "\n",
    "model = AutoModelForCausalLM.from_pretrained(\n",
    "    model_name,\n",
    "    quantization_config=bnb_config,\n",
    "    device_map=\"auto\"\n",
    ")\n",
    "\n",
    "# 5. LoRA 설정 및 적용\n",
    "model = prepare_model_for_kbit_training(model)\n",
    "\n",
    "lora_config = LoraConfig(\n",
    "    r=8,\n",
    "    lora_alpha=32,\n",
    "    target_modules=[\"attention.query_key_value\"],\n",
    "    lora_dropout=0.05,\n",
    "    bias=\"none\",\n",
    "    task_type=TaskType.CAUSAL_LM\n",
    ")\n",
    "\n",
    "\n",
    "model = get_peft_model(model, lora_config)\n",
    "\n",
    "def generate(prompt, max_new_tokens):\n",
    "    inputs = tokenizer(prompt, return_tensors=\"pt\")\n",
    "    inputs = {k: v.to(model.device) for k, v in inputs.items() if k != \"token_type_ids\"}\n",
    "\n",
    "    with torch.no_grad():\n",
    "        outputs = model.generate(\n",
    "            **inputs,\n",
    "            max_new_tokens=max_new_tokens,\n",
    "            do_sample=True,\n",
    "            temperature=0.5,\n",
    "            top_p=0.9,\n",
    "            pad_token_id=tokenizer.eos_token_id\n",
    "        )\n",
    "    return tokenizer.decode(outputs[0], skip_special_tokens=True)\n",
    "\n",
    "def clean_and_trim_response(prompt, generated_text):\n",
    "    # prompt 이후 부분만 추출\n",
    "    response = generated_text[len(prompt):].strip()\n",
    "\n",
    "    # 불필요한 토큰 제거\n",
    "    response = re.sub(r'(input:|output:)', '', response).strip()\n",
    "\n",
    "    # 마침표 기준으로 문장 자르기 후 첫 문장만 사용\n",
    "    sentences = re.split(r'(?<=[.!?])\\s+', response)\n",
    "    return sentences[0] if sentences else response"
   ]
  },
  {
   "cell_type": "code",
   "execution_count": null,
   "id": "11f45452",
   "metadata": {},
   "outputs": [],
   "source": [
    "input_text = \"오늘 밥을 뭘 먹는게 좋을까?\"\n",
    "prompt = f\"input: {input_text}\\noutput:\"\n",
    "generated = generate(prompt, 100)\n",
    "\n",
    "result = clean_and_trim_response(prompt, generated)\n",
    "print(result)"
   ]
  },
  {
   "cell_type": "code",
   "execution_count": null,
   "id": "87f7076e",
   "metadata": {},
   "outputs": [],
   "source": [
    "# gTTS 객체 생성\n",
    "speech = gTTS(text=result, lang='ko', slow=False)\n",
    "# 음성 파일로 저장\n",
    "speech.save(\"tts_output_wav/ouput.wav\")"
   ]
  }
 ],
 "metadata": {
  "kernelspec": {
   "display_name": ".venv",
   "language": "python",
   "name": "python3"
  },
  "language_info": {
   "codemirror_mode": {
    "name": "ipython",
    "version": 3
   },
   "file_extension": ".py",
   "mimetype": "text/x-python",
   "name": "python",
   "nbconvert_exporter": "python",
   "pygments_lexer": "ipython3",
   "version": "3.13.3"
  }
 },
 "nbformat": 4,
 "nbformat_minor": 5
}
