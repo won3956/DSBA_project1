{
 "cells": [
  {
   "cell_type": "code",
   "execution_count": null,
   "metadata": {},
   "outputs": [],
   "source": [
    "%pip install pandas\n",
    "%pip install numpy\n",
    "%pip install matplotlib"
   ]
  },
  {
   "cell_type": "code",
   "execution_count": 20,
   "metadata": {
    "executionInfo": {
     "elapsed": 10,
     "status": "ok",
     "timestamp": 1747119564179,
     "user": {
      "displayName": "문지원",
      "userId": "03529607731485968155"
     },
     "user_tz": -540
    },
    "id": "VJBVv3-6QEwI"
   },
   "outputs": [],
   "source": [
    "import pandas as pd\n",
    "import numpy as np\n",
    "import matplotlib.pyplot as plt\n",
    "import csv\n",
    "import os\n",
    "import sys\n",
    "import json"
   ]
  },
  {
   "cell_type": "code",
   "execution_count": 21,
   "metadata": {
    "executionInfo": {
     "elapsed": 11,
     "status": "ok",
     "timestamp": 1747120811774,
     "user": {
      "displayName": "문지원",
      "userId": "03529607731485968155"
     },
     "user_tz": -540
    },
    "id": "IHL3pKDXdJKx"
   },
   "outputs": [],
   "source": [
    "def read_json(id, start_date):\n",
    "  # json파일 불러오기\n",
    "  with open (f\"{id}_{start_date}.json\", \"r\") as f:\n",
    "      plot_data = json.load(f)\n",
    "\n",
    "  # 기본 정보 추출\n",
    "  base_info = {\n",
    "      'id': int(plot_data['id']),\n",
    "      'name': plot_data['name'],\n",
    "      'gender': int(plot_data['gender']),\n",
    "      'age': int(plot_data['age'])\n",
    "  }\n",
    "\n",
    "  # 날짜별 점수 추출\n",
    "  score_dict = {entry['date']: entry['score'] for entry in plot_data['score_changes']}\n",
    "\n",
    "  # 병합\n",
    "  full_row = {**base_info, **score_dict}\n",
    "\n",
    "  # 데이터프레임 생성\n",
    "  plot_df = pd.DataFrame([full_row])\n",
    "\n",
    "  return plot_df"
   ]
  },
  {
   "cell_type": "code",
   "execution_count": 22,
   "metadata": {
    "executionInfo": {
     "elapsed": 49,
     "status": "ok",
     "timestamp": 1747120843083,
     "user": {
      "displayName": "문지원",
      "userId": "03529607731485968155"
     },
     "user_tz": -540
    },
    "id": "jemUS6oWeGd1"
   },
   "outputs": [],
   "source": [
    "def draw_graph(id, start_date):\n",
    "\n",
    "  df = read_json(id, start_date)\n",
    "  gender = df['gender'][0]\n",
    "  age = df['age'][0]\n",
    "  name = df['name'][0]\n",
    "\n",
    "  # score로 시작하는 컬럼만 추출\n",
    "  score_cols = [col for col in df.columns if col.startswith(\"20\")]\n",
    "  score_values = df[score_cols].iloc[0]  # 첫 번째 행 기준 점수들\n",
    "\n",
    "  # 배경 색상 (구간 나누기)\n",
    "  plt.axhspan(0, 50, facecolor='green', alpha=0.1, label='정상 (0~50)')\n",
    "  plt.axhspan(50, 75, facecolor='yellow', alpha=0.1, label='경도 (50~75)')\n",
    "  plt.axhspan(75, 100, facecolor='red', alpha=0.1, label='중증 (75~100)')\n",
    "\n",
    "  # 그래프 그리기\n",
    "  plt.ylim(0, 100)\n",
    "  plt.yticks([0, 50, 75, 100], ['0', '50', '75', '100'])\n",
    "  plt.xticks\n",
    "\n",
    "  plt.plot(score_cols, score_values, marker='o')\n",
    "  plt.title(f\"Score Trend (gender={gender}, age={age})\")\n",
    "  plt.xlabel(\"Score Step\")\n",
    "  plt.ylabel(\"Score Value\")\n",
    "  plt.grid(True)\n",
    "  plt.tight_layout()\n",
    "  plt.show()"
   ]
  },
  {
   "cell_type": "code",
   "execution_count": 23,
   "metadata": {
    "colab": {
     "base_uri": "https://localhost:8080/",
     "height": 487
    },
    "executionInfo": {
     "elapsed": 248,
     "status": "ok",
     "timestamp": 1747120844232,
     "user": {
      "displayName": "문지원",
      "userId": "03529607731485968155"
     },
     "user_tz": -540
    },
    "id": "mT86sMDUgXQS",
    "outputId": "f393d891-760d-4700-eef9-35edabd256f1"
   },
   "outputs": [
    {
     "data": {
      "image/png": "[encoded data removed]",
      "text/plain": [
       "<Figure size 640x480 with 1 Axes>"
      ]
     },
     "metadata": {},
     "output_type": "display_data"
    }
   ],
   "source": [
    "draw_graph('00000000', '2025-05-01')"
   ]
  }
 ],
 "metadata": {
  "colab": {
   "authorship_tag": "ABX9TyP95n50hOx+Oh53RFQmN/iM",
   "provenance": []
  },
  "kernelspec": {
   "display_name": "Python 3",
   "name": "python3"
  },
  "language_info": {
   "name": "python"
  }
 },
 "nbformat": 4,
 "nbformat_minor": 0
}
