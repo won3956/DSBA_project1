{
 "cells": [
  {
   "cell_type": "code",
   "execution_count": null,
   "metadata": {
    "executionInfo": {
     "elapsed": 10,
     "status": "ok",
     "timestamp": 1747119564179,
     "user": {
      "displayName": "문지원",
      "userId": "03529607731485968155"
     },
     "user_tz": -540
    },
    "id": "VJBVv3-6QEwI"
   },
   "outputs": [
    {
     "ename": "ModuleNotFoundError",
     "evalue": "No module named 'matplotlib'",
     "output_type": "error",
     "traceback": [
      "\u001b[31m---------------------------------------------------------------------------\u001b[39m",
      "\u001b[31mModuleNotFoundError\u001b[39m                       Traceback (most recent call last)",
      "\u001b[36mCell\u001b[39m\u001b[36m \u001b[39m\u001b[32mIn[9]\u001b[39m\u001b[32m, line 4\u001b[39m\n\u001b[32m      2\u001b[39m \u001b[38;5;28;01mimport\u001b[39;00m\u001b[38;5;250m \u001b[39m\u001b[34;01mos\u001b[39;00m\n\u001b[32m      3\u001b[39m \u001b[38;5;28;01mimport\u001b[39;00m\u001b[38;5;250m \u001b[39m\u001b[34;01msys\u001b[39;00m\n\u001b[32m----> \u001b[39m\u001b[32m4\u001b[39m \u001b[38;5;28;01mimport\u001b[39;00m\u001b[38;5;250m \u001b[39m\u001b[34;01mmatplotlib\u001b[39;00m\u001b[34;01m.\u001b[39;00m\u001b[34;01mpyplot\u001b[39;00m\u001b[38;5;250m \u001b[39m\u001b[38;5;28;01mas\u001b[39;00m\u001b[38;5;250m \u001b[39m\u001b[34;01mplt\u001b[39;00m\n\u001b[32m      5\u001b[39m \u001b[38;5;28;01mimport\u001b[39;00m\u001b[38;5;250m \u001b[39m\u001b[34;01mjson\u001b[39;00m\n",
      "\u001b[31mModuleNotFoundError\u001b[39m: No module named 'matplotlib'"
     ]
    }
   ],
   "source": [
    "import pandas as pd\n",
    "import numpy as np\n",
    "import csv\n",
    "import os\n",
    "import sys\n",
    "import matplotlib.pyplot as plt\n",
    "import json"
   ]
  },
  {
   "cell_type": "code",
   "execution_count": 5,
   "metadata": {
    "executionInfo": {
     "elapsed": 11,
     "status": "ok",
     "timestamp": 1747120811774,
     "user": {
      "displayName": "문지원",
      "userId": "03529607731485968155"
     },
     "user_tz": -540
    },
    "id": "IHL3pKDXdJKx"
   },
   "outputs": [],
   "source": [
    "def read_json(id, start_date):\n",
    "  # json파일 불러오기\n",
    "  with open (f\"{id}_{start_date}.json\", \"r\") as f:\n",
    "      plot_data = json.load(f)\n",
    "\n",
    "  # 기본 정보 추출\n",
    "  base_info = {\n",
    "      'id': int(plot_data['id']),\n",
    "      'name': plot_data['name'],\n",
    "      'gender': int(plot_data['gender']),\n",
    "      'age': int(plot_data['age'])\n",
    "  }\n",
    "\n",
    "  # 날짜별 점수 추출\n",
    "  score_dict = {entry['date']: entry['score'] for entry in plot_data['score_changes']}\n",
    "\n",
    "  # 병합\n",
    "  full_row = {**base_info, **score_dict}\n",
    "\n",
    "  # 데이터프레임 생성\n",
    "  plot_df = pd.DataFrame([full_row])\n",
    "\n",
    "  return plot_df"
   ]
  },
  {
   "cell_type": "code",
   "execution_count": 6,
   "metadata": {
    "executionInfo": {
     "elapsed": 49,
     "status": "ok",
     "timestamp": 1747120843083,
     "user": {
      "displayName": "문지원",
      "userId": "03529607731485968155"
     },
     "user_tz": -540
    },
    "id": "jemUS6oWeGd1"
   },
   "outputs": [],
   "source": [
    "def draw_graph(id, start_date):\n",
    "\n",
    "  df = read_json(id, start_date)\n",
    "  gender = df['gender'][0]\n",
    "  age = df['age'][0]\n",
    "  name = df['name'][0]\n",
    "\n",
    "  # score로 시작하는 컬럼만 추출\n",
    "  score_cols = [col for col in df.columns if col.startswith(\"20\")]\n",
    "  score_values = df[score_cols].iloc[0]  # 첫 번째 행 기준 점수들\n",
    "\n",
    "  # 배경 색상 (구간 나누기)\n",
    "  plt.axhspan(0, 50, facecolor='green', alpha=0.1, label='정상 (0~50)')\n",
    "  plt.axhspan(50, 75, facecolor='yellow', alpha=0.1, label='경도 (50~75)')\n",
    "  plt.axhspan(75, 100, facecolor='red', alpha=0.1, label='중증 (75~100)')\n",
    "\n",
    "  # 그래프 그리기\n",
    "  plt.ylim(0, 100)\n",
    "  plt.yticks([0, 50, 75, 100], ['0', '50', '75', '100'])\n",
    "  plt.xticks\n",
    "\n",
    "  plt.plot(score_cols, score_values, marker='o')\n",
    "  plt.title(f\"Score Trend (gender={gender}, age={age})\")\n",
    "  plt.xlabel(\"Score Step\")\n",
    "  plt.ylabel(\"Score Value\")\n",
    "  plt.grid(True)\n",
    "  plt.tight_layout()\n",
    "  plt.show()"
   ]
  },
  {
   "cell_type": "code",
   "execution_count": 7,
   "metadata": {
    "colab": {
     "base_uri": "https://localhost:8080/",
     "height": 487
    },
    "executionInfo": {
     "elapsed": 248,
     "status": "ok",
     "timestamp": 1747120844232,
     "user": {
      "displayName": "문지원",
      "userId": "03529607731485968155"
     },
     "user_tz": -540
    },
    "id": "mT86sMDUgXQS",
    "outputId": "f393d891-760d-4700-eef9-35edabd256f1"
   },
   "outputs": [
    {
     "ename": "NameError",
     "evalue": "name 'json' is not defined",
     "output_type": "error",
     "traceback": [
      "\u001b[31m---------------------------------------------------------------------------\u001b[39m",
      "\u001b[31mNameError\u001b[39m                                 Traceback (most recent call last)",
      "\u001b[36mCell\u001b[39m\u001b[36m \u001b[39m\u001b[32mIn[7]\u001b[39m\u001b[32m, line 1\u001b[39m\n\u001b[32m----> \u001b[39m\u001b[32m1\u001b[39m \u001b[43mdraw_graph\u001b[49m\u001b[43m(\u001b[49m\u001b[33;43m'\u001b[39;49m\u001b[33;43m00000000\u001b[39;49m\u001b[33;43m'\u001b[39;49m\u001b[43m,\u001b[49m\u001b[43m \u001b[49m\u001b[33;43m'\u001b[39;49m\u001b[33;43m2025-05-01\u001b[39;49m\u001b[33;43m'\u001b[39;49m\u001b[43m)\u001b[49m\n",
      "\u001b[36mCell\u001b[39m\u001b[36m \u001b[39m\u001b[32mIn[6]\u001b[39m\u001b[32m, line 3\u001b[39m, in \u001b[36mdraw_graph\u001b[39m\u001b[34m(id, start_date)\u001b[39m\n\u001b[32m      1\u001b[39m \u001b[38;5;28;01mdef\u001b[39;00m\u001b[38;5;250m \u001b[39m\u001b[34mdraw_graph\u001b[39m(\u001b[38;5;28mid\u001b[39m, start_date):\n\u001b[32m----> \u001b[39m\u001b[32m3\u001b[39m   df = \u001b[43mread_json\u001b[49m\u001b[43m(\u001b[49m\u001b[38;5;28;43mid\u001b[39;49m\u001b[43m,\u001b[49m\u001b[43m \u001b[49m\u001b[43mstart_date\u001b[49m\u001b[43m)\u001b[49m\n\u001b[32m      4\u001b[39m   gender = df[\u001b[33m'\u001b[39m\u001b[33mgender\u001b[39m\u001b[33m'\u001b[39m][\u001b[32m0\u001b[39m]\n\u001b[32m      5\u001b[39m   age = df[\u001b[33m'\u001b[39m\u001b[33mage\u001b[39m\u001b[33m'\u001b[39m][\u001b[32m0\u001b[39m]\n",
      "\u001b[36mCell\u001b[39m\u001b[36m \u001b[39m\u001b[32mIn[5]\u001b[39m\u001b[32m, line 4\u001b[39m, in \u001b[36mread_json\u001b[39m\u001b[34m(id, start_date)\u001b[39m\n\u001b[32m      1\u001b[39m \u001b[38;5;28;01mdef\u001b[39;00m\u001b[38;5;250m \u001b[39m\u001b[34mread_json\u001b[39m(\u001b[38;5;28mid\u001b[39m, start_date):\n\u001b[32m      2\u001b[39m   \u001b[38;5;66;03m# json파일 불러오기\u001b[39;00m\n\u001b[32m      3\u001b[39m   \u001b[38;5;28;01mwith\u001b[39;00m \u001b[38;5;28mopen\u001b[39m (\u001b[33mf\u001b[39m\u001b[33m\"\u001b[39m\u001b[38;5;132;01m{\u001b[39;00m\u001b[38;5;28mid\u001b[39m\u001b[38;5;132;01m}\u001b[39;00m\u001b[33m_\u001b[39m\u001b[38;5;132;01m{\u001b[39;00mstart_date\u001b[38;5;132;01m}\u001b[39;00m\u001b[33m.json\u001b[39m\u001b[33m\"\u001b[39m, \u001b[33m\"\u001b[39m\u001b[33mr\u001b[39m\u001b[33m\"\u001b[39m) \u001b[38;5;28;01mas\u001b[39;00m f:\n\u001b[32m----> \u001b[39m\u001b[32m4\u001b[39m       plot_data = \u001b[43mjson\u001b[49m.load(f)\n\u001b[32m      6\u001b[39m   \u001b[38;5;66;03m# 기본 정보 추출\u001b[39;00m\n\u001b[32m      7\u001b[39m   base_info = {\n\u001b[32m      8\u001b[39m       \u001b[33m'\u001b[39m\u001b[33mid\u001b[39m\u001b[33m'\u001b[39m: \u001b[38;5;28mint\u001b[39m(plot_data[\u001b[33m'\u001b[39m\u001b[33mid\u001b[39m\u001b[33m'\u001b[39m]),\n\u001b[32m      9\u001b[39m       \u001b[33m'\u001b[39m\u001b[33mname\u001b[39m\u001b[33m'\u001b[39m: plot_data[\u001b[33m'\u001b[39m\u001b[33mname\u001b[39m\u001b[33m'\u001b[39m],\n\u001b[32m     10\u001b[39m       \u001b[33m'\u001b[39m\u001b[33mgender\u001b[39m\u001b[33m'\u001b[39m: \u001b[38;5;28mint\u001b[39m(plot_data[\u001b[33m'\u001b[39m\u001b[33mgender\u001b[39m\u001b[33m'\u001b[39m]),\n\u001b[32m     11\u001b[39m       \u001b[33m'\u001b[39m\u001b[33mage\u001b[39m\u001b[33m'\u001b[39m: \u001b[38;5;28mint\u001b[39m(plot_data[\u001b[33m'\u001b[39m\u001b[33mage\u001b[39m\u001b[33m'\u001b[39m])\n\u001b[32m     12\u001b[39m   }\n",
      "\u001b[31mNameError\u001b[39m: name 'json' is not defined"
     ]
    }
   ],
   "source": [
    "draw_graph('00000000', '2025-05-01')"
   ]
  },
  {
   "cell_type": "code",
   "execution_count": null,
   "metadata": {},
   "outputs": [],
   "source": []
  }
 ],
 "metadata": {
  "colab": {
   "authorship_tag": "ABX9TyP95n50hOx+Oh53RFQmN/iM",
   "provenance": []
  },
  "kernelspec": {
   "display_name": "Python 3",
   "name": "python3"
  },
  "language_info": {
   "name": "python"
  }
 },
 "nbformat": 4,
 "nbformat_minor": 0
}
