{
 "cells": [
  {
   "cell_type": "code",
   "execution_count": 1,
   "metadata": {
    "executionInfo": {
     "elapsed": 10,
     "status": "ok",
     "timestamp": 1747119564179,
     "user": {
      "displayName": "문지원",
      "userId": "03529607731485968155"
     },
     "user_tz": -540
    },
    "id": "VJBVv3-6QEwI"
   },
   "outputs": [],
   "source": [
    "import pandas as pd\n",
    "import numpy as np\n",
    "import matplotlib\n",
    "import matplotlib.pyplot as plt\n",
    "from matplotlib import font_manager,rc\n",
    "import csv\n",
    "import os\n",
    "import sys\n",
    "import json\n",
    "from sklearn.linear_model import LinearRegression"
   ]
  },
  {
   "cell_type": "code",
   "execution_count": 2,
   "metadata": {
    "executionInfo": {
     "elapsed": 11,
     "status": "ok",
     "timestamp": 1747120811774,
     "user": {
      "displayName": "문지원",
      "userId": "03529607731485968155"
     },
     "user_tz": -540
    },
    "id": "IHL3pKDXdJKx"
   },
   "outputs": [],
   "source": [
    "def read_json(id, start_date):\n",
    "  # json파일 불러오기\n",
    "  with open (f\"{id}_{start_date}.json\", \"r\") as f:\n",
    "      plot_data = json.load(f)\n",
    "\n",
    "  # 기본 정보 추출\n",
    "  base_info = {\n",
    "      'id': int(plot_data['id']),\n",
    "      'name': plot_data['name'],\n",
    "      'gender': int(plot_data['gender']),\n",
    "      'age': int(plot_data['age'])\n",
    "  }\n",
    "\n",
    "  # 날짜별 점수 추출\n",
    "  score_dict = {entry['date']: entry['score'] for entry in plot_data['score_changes']}\n",
    "\n",
    "  # 병합\n",
    "  full_row = {**base_info, **score_dict}\n",
    "\n",
    "  # 데이터프레임 생성\n",
    "  plot_df = pd.DataFrame([full_row])\n",
    "\n",
    "  return plot_df"
   ]
  },
  {
   "cell_type": "code",
   "execution_count": null,
   "metadata": {
    "executionInfo": {
     "elapsed": 49,
     "status": "ok",
     "timestamp": 1747120843083,
     "user": {
      "displayName": "문지원",
      "userId": "03529607731485968155"
     },
     "user_tz": -540
    },
    "id": "jemUS6oWeGd1"
   },
   "outputs": [],
   "source": [
    "def draw_graph(id, start_date):\n",
    "\n",
    "  df = read_json(id, start_date)\n",
    "  gender = df['gender'][0]\n",
    "  age = df['age'][0]\n",
    "  name = df['name'][0]\n",
    "\n",
    "  # score로 시작하는 컬럼만 추출\n",
    "  score_cols = [col for col in df.columns if col.startswith(\"20\")]\n",
    "  score_values = df[score_cols].iloc[0]  # 첫 번째 행 기준 점수들\n",
    "  \n",
    "  font_path = 'ex_data/gulim.ttc'\n",
    "  font_name = font_manager.FontProperties(fname=font_path).get_name()\n",
    "  matplotlib.rc('font',family=font_name)\n",
    "\n",
    "  # 배경 색상 (구간 나누기)\n",
    "  plt.axhspan(0, 50, facecolor='green', alpha=0.1, label='정상 (0~50)')\n",
    "  plt.axhspan(50, 75, facecolor='yellow', alpha=0.1, label='경도 (50~75)')\n",
    "  plt.axhspan(75, 100, facecolor='red', alpha=0.1, label='중증 (75~100)')\n",
    "\n",
    "  # 그래프 그리기\n",
    "  plt.ylim(0, 100)\n",
    "  plt.yticks([0, 50, 75, 100], ['0', '50', '75', '100'])\n",
    "  plt.xticks\n",
    "\n",
    "  plt.plot(score_cols, score_values, marker='o')\n",
    "  plt.title(f\"인지 기능 (이름:{name}, 나이:{age})\")\n",
    "  plt.xlabel(\"날짜\")\n",
    "  plt.ylabel(\"점수\")\n",
    "  plt.grid(True)\n",
    "  plt.tight_layout()\n",
    "  plt.show()"
   ]
  },
  {
   "cell_type": "code",
   "execution_count": 6,
   "metadata": {
    "colab": {
     "base_uri": "https://localhost:8080/",
     "height": 487
    },
    "executionInfo": {
     "elapsed": 248,
     "status": "ok",
     "timestamp": 1747120844232,
     "user": {
      "displayName": "문지원",
      "userId": "03529607731485968155"
     },
     "user_tz": -540
    },
    "id": "mT86sMDUgXQS",
    "outputId": "f393d891-760d-4700-eef9-35edabd256f1"
   },
   "outputs": [
    {
     "name": "stderr",
     "output_type": "stream",
     "text": [
      "findfont: Font family 'Gulim' not found.\n",
      "findfont: Font family 'Gulim' not found.\n",
      "findfont: Font family 'Gulim' not found.\n",
      "findfont: Font family 'Gulim' not found.\n",
      "findfont: Font family 'Gulim' not found.\n",
      "findfont: Font family 'Gulim' not found.\n",
      "findfont: Font family 'Gulim' not found.\n",
      "findfont: Font family 'Gulim' not found.\n",
      "findfont: Font family 'Gulim' not found.\n",
      "/var/folders/s3/6dlfc37j6vscfkx18rs0sw6m0000gn/T/ipykernel_2849/1898740041.py:33: UserWarning: Glyph 45216 (\\N{HANGUL SYLLABLE NAL}) missing from font(s) DejaVu Sans.\n",
      "  plt.tight_layout()\n",
      "/var/folders/s3/6dlfc37j6vscfkx18rs0sw6m0000gn/T/ipykernel_2849/1898740041.py:33: UserWarning: Glyph 51676 (\\N{HANGUL SYLLABLE JJA}) missing from font(s) DejaVu Sans.\n",
      "  plt.tight_layout()\n",
      "findfont: Font family 'Gulim' not found.\n",
      "findfont: Font family 'Gulim' not found.\n",
      "findfont: Font family 'Gulim' not found.\n",
      "findfont: Font family 'Gulim' not found.\n",
      "findfont: Font family 'Gulim' not found.\n",
      "/var/folders/s3/6dlfc37j6vscfkx18rs0sw6m0000gn/T/ipykernel_2849/1898740041.py:33: UserWarning: Glyph 51216 (\\N{HANGUL SYLLABLE JEOM}) missing from font(s) DejaVu Sans.\n",
      "  plt.tight_layout()\n",
      "/var/folders/s3/6dlfc37j6vscfkx18rs0sw6m0000gn/T/ipykernel_2849/1898740041.py:33: UserWarning: Glyph 49688 (\\N{HANGUL SYLLABLE SU}) missing from font(s) DejaVu Sans.\n",
      "  plt.tight_layout()\n",
      "findfont: Font family 'Gulim' not found.\n",
      "findfont: Font family 'Gulim' not found.\n",
      "/var/folders/s3/6dlfc37j6vscfkx18rs0sw6m0000gn/T/ipykernel_2849/1898740041.py:33: UserWarning: Glyph 48324 (\\N{HANGUL SYLLABLE BYEOL}) missing from font(s) DejaVu Sans.\n",
      "  plt.tight_layout()\n",
      "/var/folders/s3/6dlfc37j6vscfkx18rs0sw6m0000gn/T/ipykernel_2849/1898740041.py:33: UserWarning: Glyph 52824 (\\N{HANGUL SYLLABLE CI}) missing from font(s) DejaVu Sans.\n",
      "  plt.tight_layout()\n",
      "/var/folders/s3/6dlfc37j6vscfkx18rs0sw6m0000gn/T/ipykernel_2849/1898740041.py:33: UserWarning: Glyph 47588 (\\N{HANGUL SYLLABLE MAE}) missing from font(s) DejaVu Sans.\n",
      "  plt.tight_layout()\n",
      "/var/folders/s3/6dlfc37j6vscfkx18rs0sw6m0000gn/T/ipykernel_2849/1898740041.py:33: UserWarning: Glyph 44032 (\\N{HANGUL SYLLABLE GA}) missing from font(s) DejaVu Sans.\n",
      "  plt.tight_layout()\n",
      "/var/folders/s3/6dlfc37j6vscfkx18rs0sw6m0000gn/T/ipykernel_2849/1898740041.py:33: UserWarning: Glyph 45733 (\\N{HANGUL SYLLABLE NEUNG}) missing from font(s) DejaVu Sans.\n",
      "  plt.tight_layout()\n",
      "/var/folders/s3/6dlfc37j6vscfkx18rs0sw6m0000gn/T/ipykernel_2849/1898740041.py:33: UserWarning: Glyph 49457 (\\N{HANGUL SYLLABLE SEONG}) missing from font(s) DejaVu Sans.\n",
      "  plt.tight_layout()\n",
      "/var/folders/s3/6dlfc37j6vscfkx18rs0sw6m0000gn/T/ipykernel_2849/1898740041.py:33: UserWarning: Glyph 45208 (\\N{HANGUL SYLLABLE NA}) missing from font(s) DejaVu Sans.\n",
      "  plt.tight_layout()\n",
      "/var/folders/s3/6dlfc37j6vscfkx18rs0sw6m0000gn/T/ipykernel_2849/1898740041.py:33: UserWarning: Glyph 51060 (\\N{HANGUL SYLLABLE I}) missing from font(s) DejaVu Sans.\n",
      "  plt.tight_layout()\n",
      "findfont: Font family 'Gulim' not found.\n",
      "findfont: Font family 'Gulim' not found.\n",
      "findfont: Font family 'Gulim' not found.\n",
      "findfont: Font family 'Gulim' not found.\n",
      "findfont: Font family 'Gulim' not found.\n",
      "findfont: Font family 'Gulim' not found.\n",
      "/opt/anaconda3/envs/dsba_miniproject/lib/python3.12/site-packages/IPython/core/pylabtools.py:170: UserWarning: Glyph 51216 (\\N{HANGUL SYLLABLE JEOM}) missing from font(s) DejaVu Sans.\n",
      "  fig.canvas.print_figure(bytes_io, **kw)\n",
      "/opt/anaconda3/envs/dsba_miniproject/lib/python3.12/site-packages/IPython/core/pylabtools.py:170: UserWarning: Glyph 49688 (\\N{HANGUL SYLLABLE SU}) missing from font(s) DejaVu Sans.\n",
      "  fig.canvas.print_figure(bytes_io, **kw)\n",
      "findfont: Font family 'Gulim' not found.\n",
      "findfont: Font family 'Gulim' not found.\n",
      "/opt/anaconda3/envs/dsba_miniproject/lib/python3.12/site-packages/IPython/core/pylabtools.py:170: UserWarning: Glyph 45216 (\\N{HANGUL SYLLABLE NAL}) missing from font(s) DejaVu Sans.\n",
      "  fig.canvas.print_figure(bytes_io, **kw)\n",
      "/opt/anaconda3/envs/dsba_miniproject/lib/python3.12/site-packages/IPython/core/pylabtools.py:170: UserWarning: Glyph 51676 (\\N{HANGUL SYLLABLE JJA}) missing from font(s) DejaVu Sans.\n",
      "  fig.canvas.print_figure(bytes_io, **kw)\n",
      "/opt/anaconda3/envs/dsba_miniproject/lib/python3.12/site-packages/IPython/core/pylabtools.py:170: UserWarning: Glyph 48324 (\\N{HANGUL SYLLABLE BYEOL}) missing from font(s) DejaVu Sans.\n",
      "  fig.canvas.print_figure(bytes_io, **kw)\n",
      "/opt/anaconda3/envs/dsba_miniproject/lib/python3.12/site-packages/IPython/core/pylabtools.py:170: UserWarning: Glyph 52824 (\\N{HANGUL SYLLABLE CI}) missing from font(s) DejaVu Sans.\n",
      "  fig.canvas.print_figure(bytes_io, **kw)\n",
      "/opt/anaconda3/envs/dsba_miniproject/lib/python3.12/site-packages/IPython/core/pylabtools.py:170: UserWarning: Glyph 47588 (\\N{HANGUL SYLLABLE MAE}) missing from font(s) DejaVu Sans.\n",
      "  fig.canvas.print_figure(bytes_io, **kw)\n",
      "/opt/anaconda3/envs/dsba_miniproject/lib/python3.12/site-packages/IPython/core/pylabtools.py:170: UserWarning: Glyph 44032 (\\N{HANGUL SYLLABLE GA}) missing from font(s) DejaVu Sans.\n",
      "  fig.canvas.print_figure(bytes_io, **kw)\n",
      "/opt/anaconda3/envs/dsba_miniproject/lib/python3.12/site-packages/IPython/core/pylabtools.py:170: UserWarning: Glyph 45733 (\\N{HANGUL SYLLABLE NEUNG}) missing from font(s) DejaVu Sans.\n",
      "  fig.canvas.print_figure(bytes_io, **kw)\n",
      "/opt/anaconda3/envs/dsba_miniproject/lib/python3.12/site-packages/IPython/core/pylabtools.py:170: UserWarning: Glyph 49457 (\\N{HANGUL SYLLABLE SEONG}) missing from font(s) DejaVu Sans.\n",
      "  fig.canvas.print_figure(bytes_io, **kw)\n",
      "/opt/anaconda3/envs/dsba_miniproject/lib/python3.12/site-packages/IPython/core/pylabtools.py:170: UserWarning: Glyph 45208 (\\N{HANGUL SYLLABLE NA}) missing from font(s) DejaVu Sans.\n",
      "  fig.canvas.print_figure(bytes_io, **kw)\n",
      "/opt/anaconda3/envs/dsba_miniproject/lib/python3.12/site-packages/IPython/core/pylabtools.py:170: UserWarning: Glyph 51060 (\\N{HANGUL SYLLABLE I}) missing from font(s) DejaVu Sans.\n",
      "  fig.canvas.print_figure(bytes_io, **kw)\n",
      "findfont: Font family 'Gulim' not found.\n",
      "findfont: Font family 'Gulim' not found.\n",
      "findfont: Font family 'Gulim' not found.\n",
      "findfont: Font family 'Gulim' not found.\n",
      "findfont: Font family 'Gulim' not found.\n",
      "findfont: Font family 'Gulim' not found.\n",
      "findfont: Font family 'Gulim' not found.\n",
      "findfont: Font family 'Gulim' not found.\n",
      "findfont: Font family 'Gulim' not found.\n",
      "findfont: Font family 'Gulim' not found.\n",
      "findfont: Font family 'Gulim' not found.\n",
      "findfont: Font family 'Gulim' not found.\n",
      "findfont: Font family 'Gulim' not found.\n",
      "findfont: Font family 'Gulim' not found.\n",
      "findfont: Font family 'Gulim' not found.\n",
      "findfont: Font family 'Gulim' not found.\n",
      "findfont: Font family 'Gulim' not found.\n",
      "findfont: Font family 'Gulim' not found.\n",
      "findfont: Font family 'Gulim' not found.\n",
      "findfont: Font family 'Gulim' not found.\n",
      "findfont: Font family 'Gulim' not found.\n",
      "findfont: Font family 'Gulim' not found.\n"
     ]
    },
    {
     "data": {
      "image/png": "[encoded data removed]",
      "text/plain": [
       "<Figure size 640x480 with 1 Axes>"
      ]
     },
     "metadata": {},
     "output_type": "display_data"
    }
   ],
   "source": [
    "draw_graph('00000000', '2025-05-01')"
   ]
  },
  {
   "cell_type": "code",
   "execution_count": 18,
   "metadata": {},
   "outputs": [],
   "source": [
    "def get_trend_slope(scores):\n",
    "    X = np.arange(len(scores)).reshape(-1, 1)  # [[0], [1], ..., [6]]\n",
    "    y = scores.values.reshape(-1, 1)\n",
    "    model = LinearRegression().fit(X, y)\n",
    "    return model.coef_[0][0]  # 기울기 반환"
   ]
  },
  {
   "cell_type": "code",
   "execution_count": 27,
   "metadata": {},
   "outputs": [],
   "source": [
    "def print_report(df):\n",
    "    score_df = df.drop(labels=['id', 'name', 'gender', 'age'], axis=1)\n",
    "    # 점수의 평균 계산\n",
    "    avg_score = ((score_df.sum(axis=1))/len(score_df.columns))[0]\n",
    "    # 출력되는 문자열 정의\n",
    "    print_report_str = ''\n",
    "\n",
    "    # 평균 점수 확인\n",
    "    if 0<= avg_score < 50:\n",
    "        print_report_str += '인지 점수의 평균이 \\'정상\\'에 해당됩니다.\\n'\n",
    "    elif 50 <= avg_score <75:\n",
    "        print_report_str += '인지 점수의 평균이 \\'경도인지장애(MCI)\\'에 해당됩니다.\\n'\n",
    "    elif 75 <= avg_score <100:\n",
    "        print_report_str += '인지 점수의 평균이 \\'치매(AD)\\'에 해당됩니다. 병원에 방문하여 정확한 진단을 받으시길 권장드립니다.\\n'\n",
    "    else:\n",
    "        print('평균 점수 오류')\n",
    "        \n",
    "    # 추세 확인 (선형 회귀)\n",
    "    trend_df = df.copy()\n",
    "\n",
    "    # trend_slope 열 추가\n",
    "    trend_df['trend_slope'] = score_df.apply(get_trend_slope, axis=1)\n",
    "\n",
    "    # 기울기 변화의 임계값(기울기가 +- 0.5일 경우 '유지'로 측정)\n",
    "    score_trend_threshold = 0.5\n",
    "    # 기울기를 바탕으로 상승/감소 판단\n",
    "    trend_df['trend'] = trend_df['trend_slope'].apply(\n",
    "        lambda x: '상승' if score_trend_threshold > 0 else ('감소' if score_trend_threshold < 0 else '유지')\n",
    "    )\n",
    "    trend_score = (trend_df['trend'])[0]\n",
    "\n",
    "\n",
    "    if trend_score == '상승':\n",
    "        print_report_str += '점수의 변화가 \\'상승\\'으로 판단됩니다. 인지∙언어 기능 유지를 위하여 규칙적으로 뇌 활동을 자극하고, 꾸준한 신체 활동이 필요합니다.\\n'\n",
    "    elif trend_score == '감소':\n",
    "        print_report_str += '점수의 변화가 \\'감소\\'로 판단됩니다. 인지∙언어 기능이 좋아지고 있습니다. \\n'\n",
    "    elif trend_score == '유지':\n",
    "        print_report_str += '점수의 변화가 \\'유지\\'로 판단됩니다. 앞으로도 규칙적인 뇌 활동과 신체 활동을 해주세요. \\n'\n",
    "    else:\n",
    "        print('trend_score 오류')\n",
    "\n",
    "    return print_report_str\n"
   ]
  },
  {
   "cell_type": "code",
   "execution_count": 28,
   "metadata": {},
   "outputs": [
    {
     "data": {
      "text/plain": [
       "\"인지 점수의 평균이 '치매(AD)'에 해당됩니다. 병원에 방문하여 정확한 진단을 받으시길 권장드립니다.\\n점수의 변화가 '상승'으로 판단됩니다. 인지∙언어 기능 유지를 위하여 규칙적으로 뇌 활동을 자극하고, 꾸준한 신체 활동이 필요합니다.\\n\""
      ]
     },
     "execution_count": 28,
     "metadata": {},
     "output_type": "execute_result"
    }
   ],
   "source": [
    "plot_df = read_json('00000000', '2025-05-01')\n",
    "print_report(plot_df)"
   ]
  },
  {
   "cell_type": "code",
   "execution_count": null,
   "metadata": {},
   "outputs": [],
   "source": []
  }
 ],
 "metadata": {
  "colab": {
   "authorship_tag": "ABX9TyP95n50hOx+Oh53RFQmN/iM",
   "provenance": []
  },
  "kernelspec": {
   "display_name": "dsba_miniproject",
   "language": "python",
   "name": "python3"
  },
  "language_info": {
   "codemirror_mode": {
    "name": "ipython",
    "version": 3
   },
   "file_extension": ".py",
   "mimetype": "text/x-python",
   "name": "python",
   "nbconvert_exporter": "python",
   "pygments_lexer": "ipython3",
   "version": "3.12.2"
  }
 },
 "nbformat": 4,
 "nbformat_minor": 0
}
